{
  "cells": [
    {
      "cell_type": "markdown",
      "id": "c273c92a",
      "metadata": {
        "id": "c273c92a"
      },
      "source": [
        "# HW1 - Applied Quantitative Logistics\n",
        "\n",
        "Instruction for submission:\n",
        "\n",
        "- Please create a private GitHub repository then commit your solution to your repository.\n",
        "\n",
        "- Deadline: **February 13, 2025, 11:59 pm.**\n",
        "\n",
        "- Please replace **Your_Name** by your full-name : **[HW1_AQL]-YOUR_NAME**\n",
        "\n",
        "### After the assigment is done, please, push it to a [private GitHub repository](https://docs.github.com/en/github/administering-a-repository/managing-repository-settings/setting-repository-visibility) and invite [Majid-Sohrabi](https://github.com/Majid-Sohrabi) [as collaborators](https://docs.github.com/en/account-and-profile/setting-up-and-managing-your-github-user-account/managing-access-to-your-personal-repositories/inviting-collaborators-to-a-personal-repository)."
      ]
    },
    {
      "cell_type": "code",
      "execution_count": 2,
      "id": "5ab48cf5",
      "metadata": {
        "id": "5ab48cf5"
      },
      "outputs": [],
      "source": [
        "import numpy as np\n",
        "import pandas as pd\n",
        "import math\n",
        "import matplotlib.pyplot as plt\n",
        "import random"
      ]
    },
    {
      "cell_type": "markdown",
      "id": "63a46df2",
      "metadata": {
        "id": "63a46df2"
      },
      "source": [
        "## Binary SA\n",
        "\n",
        "**Problem:** Min One\n",
        "$$\n",
        "\\min{z} = f(x) = \\begin{equation*}\n",
        "\\sum_{i=1}^n x_i \\end{equation*}\n",
        "$$\n",
        "\n",
        "$$\n",
        "x_i \\in \\{0, 1\\}\n",
        "$$"
      ]
    },
    {
      "cell_type": "code",
      "execution_count": 7,
      "id": "51a7d785",
      "metadata": {
        "id": "51a7d785"
      },
      "outputs": [],
      "source": [
        "# Updating SA methods to track cost progression over iterations\n",
        "\n",
        "# Binary SA with cost tracking\n",
        "def binary_sa(n, max_iter=1000, initial_temp=100, cooling_rate=0.95):\n",
        "    current_solution = np.random.randint(0, 2, size=n)\n",
        "    current_cost = np.sum(current_solution)\n",
        "\n",
        "    best_solution = current_solution\n",
        "    best_cost = current_cost\n",
        "\n",
        "    temperature = initial_temp\n",
        "    cost_progression = [current_cost]\n",
        "\n",
        "    for _ in range(max_iter):\n",
        "        neighbor_solution = current_solution.copy()\n",
        "        flip_index = np.random.randint(0, n)\n",
        "        neighbor_solution[flip_index] = 1 - neighbor_solution[flip_index]\n",
        "        neighbor_cost = np.sum(neighbor_solution)\n",
        "\n",
        "        delta_cost = neighbor_cost - current_cost\n",
        "        if delta_cost < 0 or np.random.rand() < np.exp(-delta_cost / temperature):\n",
        "            current_solution = neighbor_solution\n",
        "            current_cost = neighbor_cost\n",
        "\n",
        "        if current_cost < best_cost:\n",
        "            best_solution = current_solution\n",
        "            best_cost = current_cost\n",
        "\n",
        "        cost_progression.append(best_cost)\n",
        "        temperature *= cooling_rate\n",
        "\n",
        "    return best_solution, best_cost, cost_progression\n"
      ]
    },
    {
      "cell_type": "code",
      "source": [],
      "metadata": {
        "id": "HbanUrGfb4kO"
      },
      "id": "HbanUrGfb4kO",
      "execution_count": 9,
      "outputs": []
    },
    {
      "cell_type": "markdown",
      "id": "bf06b729",
      "metadata": {
        "id": "bf06b729"
      },
      "source": [
        "Improve SA quality:\n",
        "\n",
        "Application in high dimension (more complex) problems when one sulution does not work well.\n",
        "\n",
        "- How to improve?\n",
        "\n",
        "### 1. Making parallel SA under one algorithm (no interaction between solutions)\n",
        "\n",
        "<img src=\"Picture1.png\" width=\"400\">\n",
        "\n",
        "\n",
        "Note: In this case the best solution out of 3 will be best solution for the next iteration."
      ]
    },
    {
      "cell_type": "code",
      "execution_count": 11,
      "id": "734b193a",
      "metadata": {
        "id": "734b193a"
      },
      "outputs": [],
      "source": [
        "# Parallel SA (No Interaction) with cost tracking\n",
        "def parallel_sa_no_interaction(n, population_size=10, max_iter=1000, initial_temp=100, cooling_rate=0.95):\n",
        "    population = [np.random.randint(0, 2, size=n) for _ in range(population_size)]\n",
        "    costs = [np.sum(individual) for individual in population]\n",
        "\n",
        "    best_solution = population[np.argmin(costs)]\n",
        "    best_cost = min(costs)\n",
        "\n",
        "    temperature = initial_temp\n",
        "    cost_progression = [best_cost]\n",
        "\n",
        "    for _ in range(max_iter):\n",
        "        new_population = []\n",
        "\n",
        "        for i in range(population_size):\n",
        "            individual = population[i]\n",
        "            flip_index = np.random.randint(0, n)\n",
        "            neighbor = individual.copy()\n",
        "            neighbor[flip_index] = 1 - neighbor[flip_index]\n",
        "            neighbor_cost = np.sum(neighbor)\n",
        "\n",
        "            if neighbor_cost < costs[i] or np.random.rand() < np.exp(-(neighbor_cost - costs[i]) / temperature):\n",
        "                population[i] = neighbor\n",
        "                costs[i] = neighbor_cost\n",
        "\n",
        "        min_cost_index = np.argmin(costs)\n",
        "        if costs[min_cost_index] < best_cost:\n",
        "            best_solution = population[min_cost_index]\n",
        "            best_cost = costs[min_cost_index]\n",
        "\n",
        "        cost_progression.append(best_cost)\n",
        "        temperature *= cooling_rate\n",
        "\n",
        "    return best_solution, best_cost, cost_progression"
      ]
    },
    {
      "cell_type": "code",
      "execution_count": 1,
      "id": "2758c357",
      "metadata": {
        "id": "2758c357"
      },
      "outputs": [],
      "source": []
    },
    {
      "cell_type": "markdown",
      "id": "475e436c",
      "metadata": {
        "id": "475e436c"
      },
      "source": [
        "### 2. Making SA based on population by interaction.\n",
        "\n",
        "<img src=\"Picture2.png\" width=\"400\">\n",
        "\n",
        "Note: In this case at each time we make several neighbours, then compare the best neighbours by current solutions."
      ]
    },
    {
      "cell_type": "code",
      "execution_count": 12,
      "id": "36974d39",
      "metadata": {
        "id": "36974d39"
      },
      "outputs": [],
      "source": [
        "\n",
        "# Population by Interaction SA with cost tracking\n",
        "def population_by_interaction_sa(n, population_size=10, max_iter=1000, initial_temp=100, cooling_rate=0.95):\n",
        "    population = [np.random.randint(0, 2, size=n) for _ in range(population_size)]\n",
        "    costs = [np.sum(individual) for individual in population]\n",
        "\n",
        "    best_solution = population[np.argmin(costs)]\n",
        "    best_cost = min(costs)\n",
        "\n",
        "    temperature = initial_temp\n",
        "    cost_progression = [best_cost]\n",
        "\n",
        "    for _ in range(max_iter):\n",
        "        new_population = []\n",
        "\n",
        "        for i in range(population_size):\n",
        "            individual = population[i]\n",
        "            neighbors = [individual.copy() for _ in range(3)]\n",
        "            for neighbor in neighbors:\n",
        "                flip_index = np.random.randint(0, n)\n",
        "                neighbor[flip_index] = 1 - neighbor[flip_index]\n",
        "\n",
        "            neighbor_costs = [np.sum(neighbor) for neighbor in neighbors]\n",
        "            best_neighbor_index = np.argmin(neighbor_costs)\n",
        "            best_neighbor = neighbors[best_neighbor_index]\n",
        "\n",
        "            new_population.append(best_neighbor)\n",
        "\n",
        "        new_costs = [np.sum(individual) for individual in new_population]\n",
        "\n",
        "        for i in range(population_size):\n",
        "            if new_costs[i] < costs[i] or np.random.rand() < np.exp(-(new_costs[i] - costs[i]) / temperature):\n",
        "                population[i] = new_population[i]\n",
        "                costs[i] = new_costs[i]\n",
        "\n",
        "        min_cost_index = np.argmin(costs)\n",
        "        if costs[min_cost_index] < best_cost:\n",
        "            best_solution = population[min_cost_index]\n",
        "            best_cost = costs[min_cost_index]\n",
        "\n",
        "        cost_progression.append(best_cost)\n",
        "        temperature *= cooling_rate\n",
        "\n",
        "    return best_solution, best_cost, cost_progression"
      ]
    },
    {
      "cell_type": "code",
      "execution_count": null,
      "id": "55bd6dbe",
      "metadata": {
        "id": "55bd6dbe"
      },
      "outputs": [],
      "source": []
    },
    {
      "cell_type": "markdown",
      "id": "8f3a5e45",
      "metadata": {
        "id": "8f3a5e45"
      },
      "source": [
        "### 3. Now let's combine steps 1 and 2 together in one algorithm.\n",
        "\n",
        "In this case, for SA based on population with interaction.\n",
        "\n",
        "<img src=\"Picture3.png\" width=\"400\">\n",
        "\n",
        "Note: Now we have 3 parents and 12 neighbours, then compare each parent by all neighbours by SA mechanism."
      ]
    },
    {
      "cell_type": "markdown",
      "id": "21ce46f7",
      "metadata": {
        "id": "21ce46f7"
      },
      "source": [
        "- SA based on population steps:\n",
        "\n",
        "1. Generate initial population and evaluate\n",
        "2. Define the best solution out of them\n",
        "3. Adjust the initial temprature $T=T0$\n",
        "4. Repeat steps *4.1* to *4.4* for a specific number of iterations\n",
        "    \n",
        "    4.1. For each member of the population generate specific number of neighbours.\n",
        "    \n",
        "    4.2. Sort all neighbours and the best members to the number of population are elected.\n",
        "    \n",
        "    4.3. each member of the population will be compared by these winner neighbours\n",
        "    \n",
        "    4.4 Update the best solution ever found\n",
        "\n",
        "5. Reduce the temprature and return to step 4 (if it's needed)"
      ]
    },
    {
      "cell_type": "code",
      "execution_count": 13,
      "id": "25af7d0d",
      "metadata": {
        "colab": {
          "base_uri": "https://localhost:8080/",
          "height": 430
        },
        "id": "25af7d0d",
        "outputId": "c93fc04b-73b6-47cf-fc5b-921a378de856"
      },
      "outputs": [
        {
          "output_type": "display_data",
          "data": {
            "text/plain": [
              "<Figure size 1000x600 with 1 Axes>"
            ],
            "image/png": "[encoded data removed]"
          },
          "metadata": {}
        }
      ],
      "source": [
        "# Combined Population Interaction SA with cost tracking\n",
        "def combined_population_interaction_sa(n, num_parents=3, num_neighbors=12, max_iter=1000, initial_temp=100, cooling_rate=0.95):\n",
        "    parents = [np.random.randint(0, 2, size=n) for _ in range(num_parents)]\n",
        "    parent_costs = [np.sum(parent) for parent in parents]\n",
        "\n",
        "    best_solution = parents[np.argmin(parent_costs)]\n",
        "    best_cost = min(parent_costs)\n",
        "\n",
        "    temperature = initial_temp\n",
        "    cost_progression = [best_cost]\n",
        "\n",
        "    for _ in range(max_iter):\n",
        "        neighbors = []\n",
        "        for parent in parents:\n",
        "            for _ in range(num_neighbors // num_parents):\n",
        "                neighbor = parent.copy()\n",
        "                flip_index = np.random.randint(0, n)\n",
        "                neighbor[flip_index] = 1 - neighbor[flip_index]\n",
        "                neighbors.append(neighbor)\n",
        "\n",
        "        neighbor_costs = [np.sum(neighbor) for neighbor in neighbors]\n",
        "\n",
        "        for i in range(num_parents):\n",
        "            for j in range(num_neighbors):\n",
        "                if neighbor_costs[j] < parent_costs[i] or np.random.rand() < np.exp(-(neighbor_costs[j] - parent_costs[i]) / temperature):\n",
        "                    parents[i] = neighbors[j]\n",
        "                    parent_costs[i] = neighbor_costs[j]\n",
        "\n",
        "        min_cost_index = np.argmin(parent_costs)\n",
        "        if parent_costs[min_cost_index] < best_cost:\n",
        "            best_solution = parents[min_cost_index]\n",
        "            best_cost = parent_costs[min_cost_index]\n",
        "\n",
        "        cost_progression.append(best_cost)\n",
        "        temperature *= cooling_rate\n",
        "\n",
        "    return best_solution, best_cost, cost_progression\n",
        "\n",
        "# Running the methods and collecting cost progressions\n",
        "methods = [\n",
        "    (\"Binary SA\", binary_sa),\n",
        "    (\"Parallel SA (No Interaction)\", parallel_sa_no_interaction),\n",
        "    (\"Population by Interaction SA\", population_by_interaction_sa),\n",
        "    (\"Combined Population Interaction SA\", combined_population_interaction_sa)\n",
        "]\n",
        "\n",
        "n = 10  # Problem size\n",
        "max_iter = 1000  # Maximum iterations\n",
        "cost_progressions = {}\n",
        "\n",
        "for name, method in methods:\n",
        "    _, _, cost_progression = method(n, max_iter=max_iter)\n",
        "    cost_progressions[name] = cost_progression\n",
        "\n",
        "# Plotting cost progression over iterations\n",
        "plt.figure(figsize=(10, 6))\n",
        "\n",
        "for name, cost_prog in cost_progressions.items():\n",
        "    plt.plot(range(len(cost_prog)), cost_prog, label=name, linewidth=2)\n",
        "\n",
        "plt.xlabel(\"Iterations\")\n",
        "plt.ylabel(\"Best Cost Found\")\n",
        "plt.title(\"Cost Progression of SA Methods\")\n",
        "plt.legend()\n",
        "plt.grid(True)\n",
        "plt.show()"
      ]
    }
  ],
  "metadata": {
    "kernelspec": {
      "display_name": "Python 3 (ipykernel)",
      "language": "python",
      "name": "python3"
    },
    "language_info": {
      "codemirror_mode": {
        "name": "ipython",
        "version": 3
      },
      "file_extension": ".py",
      "mimetype": "text/x-python",
      "name": "python",
      "nbconvert_exporter": "python",
      "pygments_lexer": "ipython3",
      "version": "3.10.9"
    },
    "colab": {
      "provenance": []
    }
  },
  "nbformat": 4,
  "nbformat_minor": 5
}